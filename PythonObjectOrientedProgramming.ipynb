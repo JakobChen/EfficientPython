{
 "cells": [
  {
   "cell_type": "code",
   "execution_count": null,
   "id": "8dbb3367",
   "metadata": {},
   "outputs": [],
   "source": [
    "import numpy as np"
   ]
  },
  {
   "cell_type": "code",
   "execution_count": null,
   "id": "8c2faad2",
   "metadata": {},
   "outputs": [],
   "source": [
    "a = \"HelloWorld!\"\n",
    "print(type(a))"
   ]
  },
  {
   "cell_type": "markdown",
   "id": "92b91ea1",
   "metadata": {},
   "source": [
    "a = 3\n",
    "print(type(a))"
   ]
  },
  {
   "cell_type": "code",
   "execution_count": null,
   "id": "2e10e030",
   "metadata": {},
   "outputs": [],
   "source": [
    "a = np.array([1,2,3,4])\n",
    "print(type(a))"
   ]
  },
  {
   "cell_type": "markdown",
   "id": "a0655645",
   "metadata": {},
   "source": [
    "## States == Attributes"
   ]
  },
  {
   "cell_type": "code",
   "execution_count": null,
   "id": "e5a4478d",
   "metadata": {},
   "outputs": [],
   "source": [
    "a.shape"
   ]
  },
  {
   "cell_type": "code",
   "execution_count": null,
   "id": "eb314a35",
   "metadata": {},
   "outputs": [],
   "source": [
    "# behavior == mehtod\n",
    "a.resize(2,2)\n",
    "a"
   ]
  },
  {
   "cell_type": "code",
   "execution_count": null,
   "id": "4e5feff6",
   "metadata": {},
   "outputs": [],
   "source": [
    "a.shape"
   ]
  },
  {
   "cell_type": "markdown",
   "id": "208d30b5",
   "metadata": {},
   "source": [
    "### Object is equal to the attibutes and methods"
   ]
  },
  {
   "cell_type": "code",
   "execution_count": null,
   "id": "93d5983a",
   "metadata": {},
   "outputs": [],
   "source": [
    "# list all the arrtributes and methods\n",
    "#dir(a)"
   ]
  },
  {
   "cell_type": "markdown",
   "id": "d30dac3b",
   "metadata": {},
   "source": [
    "### Defination of a class"
   ]
  },
  {
   "cell_type": "code",
   "execution_count": null,
   "id": "70e15e0b",
   "metadata": {},
   "outputs": [],
   "source": [
    "class Customer:\n",
    "    #codes for this class\n",
    "    pass # uss passs to creat an empty class"
   ]
  },
  {
   "cell_type": "code",
   "execution_count": null,
   "id": "4ab65a38",
   "metadata": {},
   "outputs": [],
   "source": [
    "# create two instance of the Customer class\n",
    "c1 = Customer()\n",
    "c2 = Customer()"
   ]
  },
  {
   "cell_type": "code",
   "execution_count": null,
   "id": "e88fd6bd",
   "metadata": {},
   "outputs": [],
   "source": [
    "# add a method\n",
    "class Customer:\n",
    "    #codes for this class\n",
    "    def identify(self,name):  #self is a stand-in for a particular object used in class definition, should be the first argument of any method.\n",
    "         print('I am customer: {}'.format(name))\n"
   ]
  },
  {
   "cell_type": "code",
   "execution_count": null,
   "id": "f78f131e",
   "metadata": {},
   "outputs": [],
   "source": [
    "cust = Customer()\n",
    "cust.identify('John') # python will take care of self when method called from the object. This command will be interpretered as Customer.identify(cust, 'John>')"
   ]
  },
  {
   "cell_type": "code",
   "execution_count": null,
   "id": "0854bfb7",
   "metadata": {},
   "outputs": [],
   "source": [
    "# add a method\n",
    "class Customer:\n",
    "    #codes for this class\n",
    "\n",
    "    def set_name(self,name):\n",
    "        # creat an attribute by assigning a name\n",
    "        self.name = name\n",
    "    def identify(self):  #self is a stand-in for a particular object used in class definition, should be the first argument of any method.\n",
    "        print('I am customer: {}'.format(self.name))"
   ]
  },
  {
   "cell_type": "code",
   "execution_count": null,
   "id": "32494225",
   "metadata": {},
   "outputs": [],
   "source": [
    "cust = Customer()\n",
    "cust.set_name('John')\n",
    "cust.name"
   ]
  },
  {
   "cell_type": "code",
   "execution_count": null,
   "id": "f4cb6c74",
   "metadata": {},
   "outputs": [],
   "source": [
    "cust.identify()"
   ]
  },
  {
   "cell_type": "markdown",
   "id": "a551b51c",
   "metadata": {},
   "source": [
    "## Constructor:  __init__() method is called every time an object is created "
   ]
  },
  {
   "cell_type": "code",
   "execution_count": null,
   "id": "217eb769",
   "metadata": {},
   "outputs": [],
   "source": [
    "class Customer:\n",
    "    def __init__(self,name):\n",
    "        self.name = name\n",
    "        print(\"The init method is called!\")\n",
    "    "
   ]
  },
  {
   "cell_type": "code",
   "execution_count": null,
   "id": "57601c36",
   "metadata": {},
   "outputs": [],
   "source": [
    "cust = Customer(\"John\")\n",
    "cust.name"
   ]
  },
  {
   "cell_type": "markdown",
   "id": "c6869592",
   "metadata": {},
   "source": [
    "### Using docstrings"
   ]
  },
  {
   "cell_type": "code",
   "execution_count": null,
   "id": "ee3b2c09",
   "metadata": {},
   "outputs": [],
   "source": [
    "class Customer:\n",
    "    \"\"\"This is a dummy class for docstrings\"\"\"\n",
    "    def __init__(self,name):\n",
    "        self.name = name\n",
    "        print(\"The init method is called!\")"
   ]
  },
  {
   "cell_type": "code",
   "execution_count": null,
   "id": "855388ad",
   "metadata": {},
   "outputs": [],
   "source": [
    "cust = Customer(\"John\")\n",
    "cust.__doc__"
   ]
  },
  {
   "cell_type": "markdown",
   "id": "e9dcde31",
   "metadata": {},
   "source": [
    "## Class level data\n",
    "- global constant related to the class\n",
    "- minimal/maxmal values for the attributes\n",
    "- commenly used values and cosntants"
   ]
  },
  {
   "cell_type": "code",
   "execution_count": null,
   "id": "85b0cf62",
   "metadata": {},
   "outputs": [],
   "source": [
    "class Employee:\n",
    "    # Define a class level atrribute, MIN_SALARY is shared among all the instances\n",
    "    MIN_SALARY = 1000\n",
    "    def __init__(self, name, salary):\n",
    "        self.name = name\n",
    "        self.salary = salary if salary>Employee.MIN_SALARY else Employee.MIN_SALARY # use ClassName.ATTR_NAME to access the class attribute\n",
    "    \n",
    "        "
   ]
  },
  {
   "cell_type": "code",
   "execution_count": null,
   "id": "5f0444bf",
   "metadata": {},
   "outputs": [],
   "source": [
    "emp = Employee(\"john\", 2000)\n",
    "print(emp.salary)\n",
    "print(emp.MIN_SALARY)\n",
    "print(Employee.MIN_SALARY)"
   ]
  },
  {
   "cell_type": "markdown",
   "id": "785948f6",
   "metadata": {},
   "source": [
    "## Classmethod\n",
    "- method are shared for all the instance\n",
    "- class method can not accsess the instance-level data\n",
    "- @classmethod as decorator \n",
    "- def my_classmethod(cls, args...), cls argument refers to the class\n"
   ]
  },
  {
   "cell_type": "code",
   "execution_count": null,
   "id": "c39de350",
   "metadata": {},
   "outputs": [],
   "source": [
    "class Employee:\n",
    "    # Define a class level atrribute, MIN_SALARY is shared among all the instances\n",
    "    MIN_SALARY = 1000\n",
    "    def __init__(self, name, salary=3000):\n",
    "        self.name = name\n",
    "        self.salary = salary if salary>Employee.MIN_SALARY else Employee.MIN_SALARY # use ClassName.ATTR_NAME to access the class attribute\n",
    "    \n",
    "    @classmethod\n",
    "    def from_file(cls, filename):\n",
    "        with open(filename, 'r') as f:\n",
    "            name = f.readline()\n",
    "        return cls(name)"
   ]
  },
  {
   "cell_type": "code",
   "execution_count": null,
   "id": "6915a3d9",
   "metadata": {},
   "outputs": [],
   "source": [
    "emp = Employee.from_file(\"employee_data.txt\") # call the class method function, then initialize the emp object\n",
    "print(\"name:{}, salary: {}\".format(emp.name, emp.salary))"
   ]
  },
  {
   "cell_type": "code",
   "execution_count": null,
   "id": "1900ae5a",
   "metadata": {},
   "outputs": [],
   "source": []
  },
  {
   "cell_type": "code",
   "execution_count": null,
   "id": "14d2bd90",
   "metadata": {},
   "outputs": [],
   "source": []
  },
  {
   "cell_type": "markdown",
   "id": "5665ea65",
   "metadata": {},
   "source": [
    "## Inheritance\n",
    "Inheritance \"is-a\" relationship\n"
   ]
  },
  {
   "cell_type": "code",
   "execution_count": null,
   "id": "078fab29",
   "metadata": {},
   "outputs": [],
   "source": [
    "# Parent class: class whose functionality is being extended/inherited\n",
    "class BankAccount():\n",
    "    def __init__(self, balance):\n",
    "        self.balance = balance\n",
    "    def withdraw(self, amount):\n",
    "        self.balance -= amount\n",
    "# Child class: class that will inherit the functionality and add more\n",
    "class SavingAccount(BankAccount):\n",
    "    pass\n",
    "        "
   ]
  },
  {
   "cell_type": "code",
   "execution_count": null,
   "id": "b3919c2a",
   "metadata": {},
   "outputs": [],
   "source": [
    "sa = SavingAccount(100)\n",
    "print(sa.balance)\n",
    "print(type(sa))\n",
    "sa.withdraw(300)\n",
    "print(sa.balance)"
   ]
  },
  {
   "cell_type": "code",
   "execution_count": null,
   "id": "b54fbce4",
   "metadata": {},
   "outputs": [],
   "source": [
    "# check the instance \n",
    "acc = BankAccount(500)\n",
    "print(\"acc is an instance of BankAccount:{}\".format(isinstance(acc, SavingAccount)))\n",
    "isinstance(sa, BankAccount)"
   ]
  },
  {
   "cell_type": "markdown",
   "id": "c2576334",
   "metadata": {},
   "source": [
    "## Customizing the constructor of the children class"
   ]
  },
  {
   "cell_type": "code",
   "execution_count": null,
   "id": "bfe36396",
   "metadata": {},
   "outputs": [],
   "source": [
    "# Parent class: class whose functionality is being extended/inherited\n",
    "class BankAccount():\n",
    "    def __init__(self, balance):\n",
    "        self.balance = balance\n",
    "    def withdraw(self, amount):\n",
    "        self.balance -= amount\n",
    "# Child class: class that will inherit the functionality and add more\n",
    "class SavingAccount(BankAccount):\n",
    "    def __init__(self, balance, interest_rate):\n",
    "        BankAccount.__init__(self,balance)\n",
    "        self.interest_rate = interest_rate\n",
    "    # New functionality\n",
    "    def compute_interest(self, n_periods = 1):\n",
    "        return self.balance * ( (1 + self.interest_rate) ** n_periods - 1)\n"
   ]
  },
  {
   "cell_type": "code",
   "execution_count": null,
   "id": "c823c018",
   "metadata": {},
   "outputs": [],
   "source": [
    "sa1 = SavingAccount(10000,0.01)\n",
    "print(sa1.balance, sa1.interest_rate)"
   ]
  },
  {
   "cell_type": "code",
   "execution_count": null,
   "id": "94bf19b1",
   "metadata": {},
   "outputs": [],
   "source": [
    "sa1.compute_interest(2)"
   ]
  },
  {
   "cell_type": "code",
   "execution_count": null,
   "id": "7a7ad69b",
   "metadata": {},
   "outputs": [],
   "source": [
    "class CheckingAccount(BankAccount):\n",
    "    def __init__(self, balance, limit):\n",
    "        BankAccount.__init__(self, balance)\n",
    "        self.limit = limit\n",
    "    def deposit(self, amount):\n",
    "        self.balance += amount\n",
    "\n",
    "\n",
    "    def withdraw(self, amount, fee=0):\n",
    "        if fee <= self.limit:\n",
    "            BankAccount.withdraw(self, amount - fee)\n",
    "        else:\n",
    "            BankAccount.withdraw(self,amount - self.limit)\n"
   ]
  },
  {
   "cell_type": "code",
   "execution_count": null,
   "id": "d55b8294",
   "metadata": {},
   "outputs": [],
   "source": [
    "check_acct = CheckingAccount(1000, 25)\n",
    "# call from the BankAccount\n",
    "check_acct.withdraw(100)"
   ]
  },
  {
   "cell_type": "code",
   "execution_count": null,
   "id": "36e53434",
   "metadata": {},
   "outputs": [],
   "source": [
    "#call from the CheckingAccount\n",
    "check_acct.withdraw(200, fee=15)"
   ]
  },
  {
   "cell_type": "markdown",
   "id": "43a3401d",
   "metadata": {},
   "source": [
    "### Customizing a dataframe"
   ]
  },
  {
   "cell_type": "code",
   "execution_count": null,
   "id": "306010fa",
   "metadata": {},
   "outputs": [],
   "source": [
    "import pandas as pd\n",
    "import datetime\n",
    "class LogPD(pd.DataFrame):\n",
    "    def __init__(self, *args, **kwargs):\n",
    "        pd.DataFrame.__init__(self,*args, **kwargs)\n",
    "        self.created = datetime.datetime.today()"
   ]
  },
  {
   "cell_type": "code",
   "execution_count": null,
   "id": "592aa1a8",
   "metadata": {},
   "outputs": [],
   "source": [
    "lpd = LogPD({\"col1\":[1,2], \"col2\":[2,3]})\n",
    "print(lpd.values)\n",
    "print(lpd.created)"
   ]
  },
  {
   "cell_type": "markdown",
   "id": "254c716c",
   "metadata": {},
   "source": [
    "### Operator overloading"
   ]
  },
  {
   "cell_type": "code",
   "execution_count": null,
   "id": "fcbe54c7",
   "metadata": {},
   "outputs": [],
   "source": [
    "# Parent class: class whose functionality is being extended/inherited\n",
    "class BankAccount():\n",
    "    def __init__(self, number, balance):\n",
    "        self.number = number\n",
    "        self.balance = balance\n",
    "    def withdraw(self, amount):\n",
    "        self.balance -= amount\n",
    "    def __eq__(self,other): # operator overloading, self is within class, other is the exterior class\n",
    "        return self.number == other.number and type(self) == type(other))"
   ]
  },
  {
   "cell_type": "code",
   "execution_count": null,
   "id": "9a1752e8",
   "metadata": {},
   "outputs": [],
   "source": [
    "acc1 = BankAccount(1, 100)\n",
    "acc2 = BankAccount(2, 300)\n",
    "print(acc1 == acc2)"
   ]
  },
  {
   "cell_type": "markdown",
   "id": "2b6a98ca",
   "metadata": {},
   "source": [
    "### String operator overloading\n",
    "- __str__() \n",
    "    - informal, for end user\n",
    "    - string representation\n",
    "- __rper__()\n",
    "    - formal, for developer\n",
    "    - reproducible representation\n",
    "    - fallback for print()"
   ]
  },
  {
   "cell_type": "code",
   "execution_count": null,
   "id": "5c8f5deb",
   "metadata": {},
   "outputs": [],
   "source": [
    "class Customer():\n",
    "    def __init__(self, name, balance):\n",
    "        self.name = name\n",
    "        self.balance = balance\n",
    "    def __str__(self):\n",
    "        cust_str = \"Custome string method:\\nCustomer Name:{}, \\nCustomer Balance: {}\".format(self.name, self.balance)\n",
    "        return cust_str\n",
    "    def __repr__(self):\n",
    "        return \"Custome repr method:\\nCustomer Name:{}, \\nCustomer Balance: {}\".format(self.name, self.balance)"
   ]
  },
  {
   "cell_type": "code",
   "execution_count": null,
   "id": "15cde581",
   "metadata": {},
   "outputs": [],
   "source": [
    "cus = Customer(\"John\", 1000)\n",
    "print(cus) # call the str method"
   ]
  },
  {
   "cell_type": "code",
   "execution_count": null,
   "id": "d85f69d0",
   "metadata": {},
   "outputs": [],
   "source": [
    "cus # implicitly call the repr method"
   ]
  },
  {
   "cell_type": "markdown",
   "id": "e6838abc",
   "metadata": {},
   "source": [
    "### Exception\n",
    "- Proventing programm from terminatinng when an exception is raised.\n",
    "- try - exept - finaly\n",
    "```python\n",
    "try:\n",
    "# Try running some code\n",
    "except ExceptionNameHere:\n",
    "# Run this code if ExceptionNameHere happens\n",
    "except AnotherExceptionHere:\n",
    "#<-- multiple except blocks\n",
    "# Run this code if AnotherExceptionHere happens\n",
    "...\n",
    "finally:\n",
    "#<-- optional\n",
    "# Run this code no matter what\n",
    "```\n",
    "\n",
    "\n"
   ]
  },
  {
   "cell_type": "markdown",
   "id": "1fbc9777",
   "metadata": {},
   "source": [
    "#### Raising exception"
   ]
  },
  {
   "cell_type": "code",
   "execution_count": null,
   "id": "71670a8f",
   "metadata": {},
   "outputs": [],
   "source": [
    "def make_list_of_ones(length):\n",
    "    if length < 0:\n",
    "        raise ValueError(\"Invalid length!\")\n",
    "    return [1]*length"
   ]
  },
  {
   "cell_type": "code",
   "execution_count": null,
   "id": "4ec304ec",
   "metadata": {},
   "outputs": [],
   "source": [
    "make_list_of_ones(-1)"
   ]
  },
  {
   "cell_type": "markdown",
   "id": "71d3f569",
   "metadata": {},
   "source": [
    "#### Custom exceptions\n",
    "- Standard exceptions are inherited from BaseException and Exception\n"
   ]
  },
  {
   "cell_type": "code",
   "execution_count": null,
   "id": "e125e0cf",
   "metadata": {},
   "outputs": [],
   "source": [
    "class BalanceError(Exception):\n",
    "    pass\n",
    "class Customer:\n",
    "    def __init__(self, name, balance):\n",
    "        if balance < 0:\n",
    "            raise BalanceError(\"Not enough balance!\")\n",
    "        else:\n",
    "            self.name = name\n",
    "            self.balance = balance\n",
    "            \n",
    "            \n",
    "cus = Customer(\"John\",-100)"
   ]
  },
  {
   "cell_type": "markdown",
   "id": "075b4a70",
   "metadata": {},
   "source": [
    "#### Catching from custom exception"
   ]
  },
  {
   "cell_type": "code",
   "execution_count": null,
   "id": "0996c6df",
   "metadata": {},
   "outputs": [],
   "source": [
    "try:\n",
    "    cust = Customer(\"John\", -100)\n",
    "except BalanceError:\n",
    "    cust = Customer(\"John\", 0)  "
   ]
  },
  {
   "cell_type": "markdown",
   "id": "0f43126c",
   "metadata": {},
   "source": [
    "### Polymorphism\n",
    "\n",
    "Using an unified interface to operate on objects of different classes"
   ]
  },
  {
   "cell_type": "code",
   "execution_count": null,
   "id": "a80d7572",
   "metadata": {},
   "outputs": [],
   "source": [
    "# Define a Rectangle class\n",
    "class Rectangle:\n",
    "    def __init__(self,h,w):\n",
    "        self.h = h\n",
    "        self.w = w\n",
    "    def set_h(self, h):\n",
    "        print(\"Called from the Rectangle class!\")\n",
    "        self.h = h\n",
    "    def set_w(self, w):\n",
    "        self.w = w\n",
    "        \n",
    "\n",
    "# Define a Square class\n",
    "class Square(Rectangle):\n",
    "\n",
    "    def __init__(self,w):\n",
    "        Rectangle.__init__(self,w,w)\n",
    "    def set_h(self,h):\n",
    "        print(\"Called from the Square class\")\n",
    "        self.h = h\n",
    "        self.w = h"
   ]
  },
  {
   "cell_type": "code",
   "execution_count": null,
   "id": "ae153d44",
   "metadata": {},
   "outputs": [],
   "source": [
    "sq = Square(5)\n",
    "sq.set_h(10)\n"
   ]
  },
  {
   "cell_type": "markdown",
   "id": "3981b9db",
   "metadata": {},
   "source": [
    "### Manage data access: private attributes\n",
    "- all class data in pyhton is public. (We are all adults here)\n",
    "- Restrict access using @property decorator and overriding the __getattr__() __setattr__()\n",
    "- Name conventions with internale attributes\n",
    "    - starts with a single '_' -> refers to internal, ex.: obj._attr_name , obj._method_name()\n",
    "    - As a class user: don't touch this\n",
    "    - As a developer: using for implementing details and helper funcitons\n",
    "- Name conventions with pseudoprivate attributes\n",
    "    - starts but doesn't end with __ ->'private'\n",
    "    - Not inherited\n",
    "    - Name mangling: obj.__attr_name is interpreted as obj._MyClass__attr_name\n",
    "    - Used to prevent name clashes in inherited classes\n",
    "    - Leadind and training __ are only used for built in Python methods (__init__(), __str__(), __repr__())"
   ]
  },
  {
   "cell_type": "code",
   "execution_count": null,
   "id": "46a5b78c",
   "metadata": {},
   "outputs": [],
   "source": [
    "# Using internal attributes\n",
    "# Add class attributes for max number of days and months\n",
    "class BetterDate:\n",
    "    _MAX_DAYS = 30\n",
    "    _MAX_MONTHS = 12\n",
    "    def __init__(self, year, month, day):\n",
    "        self.year, self.month, self.day = year, month, day\n",
    "        \n",
    "    @classmethod\n",
    "    def from_str(cls, datestr):\n",
    "        year, month, day = map(int, datestr.split(\"-\"))\n",
    "        return cls(year, month, day)\n",
    "    \n",
    "    # Add _is_valid() checking day and month values\n",
    "    def _is_valid(self):\n",
    "        return (self.day <= BetterDate._MAX_DAYS and self.month <= BetterDate._MAX_MONTHS)\n",
    "\n",
    "    \n",
    "bd1 = BetterDate(2020, 4, 30)\n",
    "print(bd1._is_valid())\n",
    "\n",
    "bd2 = BetterDate(2020, 6, 45)\n",
    "print(bd2._is_valid())"
   ]
  },
  {
   "cell_type": "markdown",
   "id": "71a85366",
   "metadata": {},
   "source": [
    "### Properties\n"
   ]
  },
  {
   "cell_type": "code",
   "execution_count": null,
   "id": "78634905",
   "metadata": {},
   "outputs": [],
   "source": [
    "class Employee:\n",
    "    def set_name(self, name):\n",
    "        self.name = name\n",
    "    def set_salary(self, salary):\n",
    "        self.salary = salary\n",
    "    def give_raise(self, amount):\n",
    "        self.salary = self.salary + amount\n",
    "    def __init__(self, name, salary):\n",
    "        self.name, self.salary = name, salary\n",
    "emp = Employee(\"Miriam Azari\", 35000)\n",
    "emp.salary"
   ]
  },
  {
   "cell_type": "code",
   "execution_count": null,
   "id": "ff06dc01",
   "metadata": {},
   "outputs": [],
   "source": [
    "# changing attribute value\n",
    "emp.salary = emp.salary + 100\n",
    "emp.salary"
   ]
  },
  {
   "cell_type": "markdown",
   "id": "87acce21",
   "metadata": {},
   "source": [
    "#### Restrict and read-only attributes\n"
   ]
  },
  {
   "cell_type": "code",
   "execution_count": null,
   "id": "10e26c3e",
   "metadata": {},
   "outputs": [],
   "source": [
    "import pandas as pd\n",
    "df = pd.DataFrame({'col1':[1,2], 'col2':[3,4]})\n",
    "df.shape"
   ]
  },
  {
   "cell_type": "code",
   "execution_count": null,
   "id": "992cdbc5",
   "metadata": {},
   "outputs": [],
   "source": [
    "df.shape = (3,4)"
   ]
  },
  {
   "cell_type": "markdown",
   "id": "9d31a61c",
   "metadata": {},
   "source": [
    "####\n",
    "- use protected attributes with leading _ to store data\n",
    "- use @property on a method whose name is exactly the name of the restricted attribute, return the internal attribute\n",
    "- use @attr.setter on a method attr() that will be called on obj.attr = value\n",
    "- User interface: behavior like attributes\n",
    "- Developer facing: gibe control access of the attributes"
   ]
  },
  {
   "cell_type": "code",
   "execution_count": 10,
   "id": "814d72de",
   "metadata": {},
   "outputs": [],
   "source": [
    "class Employee:\n",
    "    def set_name(self, name):\n",
    "        self.name = name\n",
    "\n",
    "    def give_raise(self, amount):\n",
    "        self._salary = self._salary + amount\n",
    "    def __init__(self, name, salary):\n",
    "        self.name, self._salary = name, salary\n",
    "    \n",
    "    @property\n",
    "    def salary(self):\n",
    "        return self._salary\n",
    "    @salary.setter\n",
    "    def salary(self, new_salary):\n",
    "        if new_salary < 0:\n",
    "            raise ValueError(\"Invalid Salary\")\n",
    "        self._salary = new_salary\n",
    "    \n",
    "  \n",
    "   \n",
    "    "
   ]
  },
  {
   "cell_type": "code",
   "execution_count": 11,
   "id": "44314039",
   "metadata": {},
   "outputs": [
    {
     "name": "stdout",
     "output_type": "stream",
     "text": [
      "6000\n"
     ]
    }
   ],
   "source": [
    "em = Employee(\"John\", 100)\n",
    "em.salary = 6000\n",
    "print(em._salary)\n"
   ]
  },
  {
   "cell_type": "code",
   "execution_count": 12,
   "id": "a71ac90f",
   "metadata": {},
   "outputs": [
    {
     "ename": "ValueError",
     "evalue": "Invalid Salary",
     "output_type": "error",
     "traceback": [
      "\u001b[0;31m---------------------------------------------------------------------------\u001b[0m",
      "\u001b[0;31mValueError\u001b[0m                                Traceback (most recent call last)",
      "\u001b[0;32m/tmp/ipykernel_508051/34006139.py\u001b[0m in \u001b[0;36m<module>\u001b[0;34m\u001b[0m\n\u001b[0;32m----> 1\u001b[0;31m \u001b[0mem\u001b[0m\u001b[0;34m.\u001b[0m\u001b[0msalary\u001b[0m \u001b[0;34m=\u001b[0m \u001b[0;34m-\u001b[0m\u001b[0;36m100\u001b[0m\u001b[0;34m\u001b[0m\u001b[0;34m\u001b[0m\u001b[0m\n\u001b[0m\u001b[1;32m      2\u001b[0m \u001b[0mem\u001b[0m\u001b[0;34m.\u001b[0m\u001b[0msalary\u001b[0m\u001b[0;34m\u001b[0m\u001b[0;34m\u001b[0m\u001b[0m\n",
      "\u001b[0;32m/tmp/ipykernel_508051/1058126872.py\u001b[0m in \u001b[0;36msalary\u001b[0;34m(self, new_salary)\u001b[0m\n\u001b[1;32m     14\u001b[0m     \u001b[0;32mdef\u001b[0m \u001b[0msalary\u001b[0m\u001b[0;34m(\u001b[0m\u001b[0mself\u001b[0m\u001b[0;34m,\u001b[0m \u001b[0mnew_salary\u001b[0m\u001b[0;34m)\u001b[0m\u001b[0;34m:\u001b[0m\u001b[0;34m\u001b[0m\u001b[0;34m\u001b[0m\u001b[0m\n\u001b[1;32m     15\u001b[0m         \u001b[0;32mif\u001b[0m \u001b[0mnew_salary\u001b[0m \u001b[0;34m<\u001b[0m \u001b[0;36m0\u001b[0m\u001b[0;34m:\u001b[0m\u001b[0;34m\u001b[0m\u001b[0;34m\u001b[0m\u001b[0m\n\u001b[0;32m---> 16\u001b[0;31m             \u001b[0;32mraise\u001b[0m \u001b[0mValueError\u001b[0m\u001b[0;34m(\u001b[0m\u001b[0;34m\"Invalid Salary\"\u001b[0m\u001b[0;34m)\u001b[0m\u001b[0;34m\u001b[0m\u001b[0;34m\u001b[0m\u001b[0m\n\u001b[0m\u001b[1;32m     17\u001b[0m         \u001b[0mself\u001b[0m\u001b[0;34m.\u001b[0m\u001b[0m_salary\u001b[0m \u001b[0;34m=\u001b[0m \u001b[0mnew_salary\u001b[0m\u001b[0;34m\u001b[0m\u001b[0;34m\u001b[0m\u001b[0m\n\u001b[1;32m     18\u001b[0m \u001b[0;34m\u001b[0m\u001b[0m\n",
      "\u001b[0;31mValueError\u001b[0m: Invalid Salary"
     ]
    }
   ],
   "source": [
    "em.salary = -100\n",
    "em.salary"
   ]
  },
  {
   "cell_type": "code",
   "execution_count": 9,
   "id": "5a729b62",
   "metadata": {},
   "outputs": [
    {
     "data": {
      "text/plain": [
       "datetime.datetime(2021, 11, 15, 13, 46, 37, 345546)"
      ]
     },
     "execution_count": 9,
     "metadata": {},
     "output_type": "execute_result"
    }
   ],
   "source": [
    "import pandas as pd\n",
    "from datetime import datetime\n",
    "\n",
    "# MODIFY the class to use _created_at instead of created_at\n",
    "class LoggedDF(pd.DataFrame):\n",
    "    def __init__(self, *args, **kwargs):\n",
    "        pd.DataFrame.__init__(self, *args, **kwargs)\n",
    "        self._created_at = datetime.today()\n",
    "    \n",
    "    def to_csv(self, *args, **kwargs):\n",
    "        temp = self.copy()\n",
    "        temp[\"created_at\"] = self._created_at\n",
    "        pd.DataFrame.to_csv(temp, *args, **kwargs)   \n",
    "    \n",
    "    # Add a read-only property: _created_at\n",
    "    @property\n",
    "    def created_at(self):\n",
    "        return self._created_at\n",
    "        \n",
    "    @created_at.getter \n",
    "    def created_at(self):\n",
    "        return self._created_at\n",
    "# Instantiate a LoggedDF called ldf\n",
    "ldf = LoggedDF({\"col1\": [1,2], \"col2\":[3,4]}) \n",
    "ldf.created_at"
   ]
  },
  {
   "cell_type": "code",
   "execution_count": null,
   "id": "58f589db",
   "metadata": {},
   "outputs": [],
   "source": []
  }
 ],
 "metadata": {
  "kernelspec": {
   "display_name": "Python 3 (ipykernel)",
   "language": "python",
   "name": "python3"
  },
  "language_info": {
   "codemirror_mode": {
    "name": "ipython",
    "version": 3
   },
   "file_extension": ".py",
   "mimetype": "text/x-python",
   "name": "python",
   "nbconvert_exporter": "python",
   "pygments_lexer": "ipython3",
   "version": "3.7.11"
  }
 },
 "nbformat": 4,
 "nbformat_minor": 5
}
