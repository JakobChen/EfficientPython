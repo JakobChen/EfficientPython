{
 "cells": [
  {
   "cell_type": "markdown",
   "id": "f96dced8",
   "metadata": {},
   "source": [
    "### Docstrings\n",
    "leading and ending wiht ''', ingeneral it can be divided into three parts:\n",
    "\n",
    "- Description of the funtion usage\n",
    "- Args: descript the input paramters\n",
    "- Return: descript the return values\n",
    "- Raise: descript the exception handling\n"
   ]
  },
  {
   "cell_type": "code",
   "execution_count": null,
   "id": "2956387d",
   "metadata": {},
   "outputs": [],
   "source": [
    "def count_letter(content, letter):\n",
    "  \"\"\"Count the number of times `letter` appears in `content`.\n",
    "\n",
    "  Args:\n",
    "    content (str): The string to search.\n",
    "    letter (str): The letter to search for.\n",
    "\n",
    "  Returns:\n",
    "    int\n",
    "\n",
    "  # Add a section detailing what errors might be raised\n",
    "  Raises:\n",
    "    ValueError: If `letter` is not a one-character string.\n",
    "  \"\"\"\n",
    "  if (not isinstance(letter, str)) or len(letter) != 1:\n",
    "    raise ValueError('`letter` must be a single character string.')\n",
    "  return len([char for char in content if char == letter])"
   ]
  },
  {
   "cell_type": "code",
   "execution_count": null,
   "id": "1cae9b22",
   "metadata": {},
   "outputs": [],
   "source": [
    "# retrive the docstring\n",
    "\n",
    "docstr = count_letter.__doc__\n",
    "border = '#' * 80\n",
    "print('{}\\n{}\\n{}'.format(border, docstr, border))"
   ]
  },
  {
   "cell_type": "markdown",
   "id": "3883f3db",
   "metadata": {},
   "source": [
    "### DRY(Don't Repeat Yourself) or Do one thing\n",
    "- modificatio and maintaince are difficult\n",
    "- use function to avoid repetition\n",
    "- easier to define the test cases for TDD(Test Driven Development)"
   ]
  },
  {
   "cell_type": "code",
   "execution_count": null,
   "id": "e84afe2f",
   "metadata": {},
   "outputs": [],
   "source": [
    "train = pd.read_csv('train.csv')\n",
    "train_y = train['labels'].values\n",
    "train_X = train[col for col in train.columns if col != 'labels'].values\n",
    "train_pca = PCA(n_components=2).fit_transform(train_X)\n",
    "plt.scatter(train_pca[:,0], train_pca[:,1])\n",
    "\n",
    "val = pd.read_csv('validation.csv')\n",
    "val_y = val['labels'].values\n",
    "val_X = val[col for col in val.columns if col != 'labels'].values\n",
    "val_pca = PCA(n_components=2).fit_transform(val_X)\n",
    "plt.scatter(val_pca[:,0], val_pca[:,1])\n",
    "\n",
    "test = pd.read_csv('test.csv')\n",
    "test_y = test['labels'].values\n",
    "test_X = test[col for col in test.columns if col != 'labels'].values\n",
    "test_pca = PCA(n_components=2).fit_transform(train_X)\n",
    "plt.scatter(test_pca[:,0], test_pca[:,1])"
   ]
  },
  {
   "cell_type": "markdown",
   "id": "0a82d10e",
   "metadata": {},
   "source": [
    "#### Better solution: change with functions"
   ]
  },
  {
   "cell_type": "code",
   "execution_count": null,
   "id": "0c37f7bf",
   "metadata": {},
   "outputs": [],
   "source": [
    "def load_and_plot(path):\n",
    "    \"\"\"Load a data set and plot the first two principal components.\n",
    "    Args:\n",
    "    path (str): The location of a CSV file.\n",
    "    Returns:\n",
    "    tuple of ndarray: (features, labels)\n",
    "    \"\"\"\n",
    "    # load the data\n",
    "    data = pd.read_csv(path)\n",
    "    y = data['label'].values\n",
    "    X = data[col for col in train.columns if col != 'label'].values\n",
    "    # plot the first two principle components\n",
    "    pca = PCA(n_components=2).fit_transform(X)\n",
    "    plt.scatter(pca[:,0], pca[:,1])\n",
    "    # return loaded d"
   ]
  },
  {
   "cell_type": "markdown",
   "id": "79c111a5",
   "metadata": {},
   "source": [
    "#### Best solution: do one thing\n",
    "- more easily understood\n",
    "- more flexible\n",
    "- simpler to test\n",
    "- simpler to debug\n",
    "- easier to change"
   ]
  },
  {
   "cell_type": "code",
   "execution_count": null,
   "id": "acc924c5",
   "metadata": {},
   "outputs": [],
   "source": [
    "def load_data(path):\n",
    "    \n",
    "    \"\"\" Load a data set. \n",
    "    Args:\n",
    "        path (str): The location of a CSV file.\n",
    "    Returns:\n",
    "        tuple of ndarray: (features, labels)\n",
    "    \"\"\"\n",
    "    data = pd.read_csv(path)\n",
    "    y = data['labels'].values\n",
    "    X = data[col for col in data.columns\n",
    "    if col != 'labels'].values\n",
    "    return X, y\n",
    "\n",
    "def plot_data(X):\n",
    "    \"\"\" Plot the first two principal components of a matrix.\n",
    "    Args:\n",
    "        X (numpy.ndarray): The data to plot.\n",
    "    \"\"\"\n",
    "    pca = PCA(n_components=2).fit_transform(X)\n",
    "    plt.scatter(pca[:,0], pca[:,1])\n"
   ]
  },
  {
   "cell_type": "markdown",
   "id": "bbc874da",
   "metadata": {},
   "source": [
    "### Pass By assignment\n",
    "\n",
    "| immutable      | mutable |\n",
    "| ----------- | ----------- |\n",
    "| tuple       | list        |\n",
    "| array       | string      |\n",
    "| int         | dict        |\n",
    "| float       | set         |\n",
    "| bool        | object      |\n",
    "| None        | function    |\n",
    "| bytes       | bytearray   |\n",
    "\n"
   ]
  },
  {
   "cell_type": "code",
   "execution_count": null,
   "id": "8527378c",
   "metadata": {},
   "outputs": [],
   "source": [
    "# pass by reference\n",
    "def foo(x):\n",
    "    print(\"Original memory location of x: {}\\n\".format(id(x)))\n",
    "    x[0] = 88\n",
    "my_list = [1,2,3,4]\n",
    "print(\"Original memory location of my_list: {}\\n\".format(id(my_list)))\n",
    "foo(my_list) # mutable passed by reference, therefore the my_list has been modified, the parameter x in the foo funciton refers to the same memory of the my_list\n",
    "\n",
    "print(\"Modifed memory location of my_list: {}\\n\".format(id(my_list)))\n",
    "my_list"
   ]
  },
  {
   "cell_type": "code",
   "execution_count": null,
   "id": "01f23a0b",
   "metadata": {},
   "outputs": [],
   "source": [
    "# pass by value\n",
    "def bar(x):\n",
    "    print(\" Parameter in bar function memory location of x before asign: {}\\n\".format(id(x)))\n",
    "    x = x + 10\n",
    "    print(\" Parameter in bar function memory location of x after asign: {}\\n\".format(id(x)))\n",
    "\n",
    "x = 20\n",
    "print(\"Original memory location of x: {}\\n\".format(id(x)))\n",
    "bar(x) # create a new memory location to assign the value\n",
    "print(\"Modified memory location of x: {}\\n\".format(id(x)))\n",
    "print(x)"
   ]
  },
  {
   "cell_type": "markdown",
   "id": "ddf7f09b",
   "metadata": {},
   "source": [
    "#### Mutable default arguments are dangerous"
   ]
  },
  {
   "cell_type": "code",
   "execution_count": null,
   "id": "67eb4649",
   "metadata": {},
   "outputs": [],
   "source": [
    "def foo(var=[]):\n",
    "    var.append(1)\n",
    "    return var"
   ]
  },
  {
   "cell_type": "code",
   "execution_count": null,
   "id": "15617fdb",
   "metadata": {},
   "outputs": [],
   "source": [
    "foo()"
   ]
  },
  {
   "cell_type": "code",
   "execution_count": null,
   "id": "6a744cf9",
   "metadata": {},
   "outputs": [],
   "source": [
    "foo()"
   ]
  },
  {
   "cell_type": "markdown",
   "id": "0ceb2278",
   "metadata": {},
   "source": [
    "#### Better solution: asign None to the mutable variable as default"
   ]
  },
  {
   "cell_type": "code",
   "execution_count": null,
   "id": "491dfba4",
   "metadata": {},
   "outputs": [],
   "source": [
    "def foo(var=None):\n",
    "    if var == None:\n",
    "        var = []\n",
    "    var.append(1)\n",
    "    return var\n"
   ]
  },
  {
   "cell_type": "code",
   "execution_count": null,
   "id": "82af63b3",
   "metadata": {},
   "outputs": [],
   "source": [
    "foo()"
   ]
  },
  {
   "cell_type": "code",
   "execution_count": null,
   "id": "3253857a",
   "metadata": {},
   "outputs": [],
   "source": [
    "foo()"
   ]
  },
  {
   "cell_type": "markdown",
   "id": "3d4e02ca",
   "metadata": {},
   "source": [
    "### Context Manager: (Caterers)\n",
    "\n",
    "- Set up a context (set up tables with food and drinks)\n",
    "- Run your code (Let you and your friends have a party)\n",
    "- Remove the context (Cleaned up and removed all the tables)\n"
   ]
  },
  {
   "cell_type": "markdown",
   "id": "df5d2221",
   "metadata": {},
   "source": [
    "```python\n",
    "# pseudocode\n",
    "with <context-manager>(<args>) as <variable-name>:\n",
    "# Run your code here\n",
    "# This code is running \"inside the context\"\n",
    "# This code runs after the context is removed\n",
    "```"
   ]
  },
  {
   "cell_type": "code",
   "execution_count": null,
   "id": "cb822245",
   "metadata": {},
   "outputs": [],
   "source": [
    "# Step1: set up a context by opening a file\n",
    "# Step2. let you run code you want on that file\n",
    "# Step3: Removing the context by closing the file\n",
    "\n",
    "with open(\"employee_data.txt\") as file:\n",
    "    text = file.read()\n",
    "    length = len(text)\n",
    "print(\"The length of the file is {}\".format(length))\n"
   ]
  },
  {
   "cell_type": "code",
   "execution_count": null,
   "id": "d62e009c",
   "metadata": {},
   "outputs": [],
   "source": [
    "#### How to create a context manager\n",
    "@contextlib.contextmanager\n",
    "def my_context():\n",
    "    # Add any code you need\n",
    "    yield\n",
    "    # Add any teardown code you need\n",
    "# 1. Define a funciton\n",
    "# 2. (optinal) add any set up codes your context needs\n",
    "# 3. Use the yield keyword\n",
    "# 4. (optinal)  Add any teardown code your context needs\n",
    "# 5. Add the @contextlib.contextmanger decorator at the top of the funciton\n"
   ]
  },
  {
   "cell_type": "code",
   "execution_count": null,
   "id": "a98acab0",
   "metadata": {},
   "outputs": [],
   "source": [
    "import contextlib\n",
    "import time\n",
    "@contextlib.contextmanager\n",
    "def timer():\n",
    "    start = time.time()\n",
    "    yield start\n",
    "    end = time.time()\n",
    "    print(\"Elapsed: {:.2f}\".format(end - start))\n",
    "with timer():\n",
    "    print(\"This should take 0.25 second\\n\")\n",
    "    time.sleep(0.25)"
   ]
  },
  {
   "cell_type": "code",
   "execution_count": null,
   "id": "f5025fc9",
   "metadata": {},
   "outputs": [],
   "source": [
    "@contextlib.contextmanager\n",
    "def open_read_only(filename):\n",
    "  \"\"\"Open a file in read-only mode.\n",
    "\n",
    "  Args:\n",
    "    filename (str): The location of the file to read\n",
    "\n",
    "  Yields:\n",
    "    file object\n",
    "  \"\"\"\n",
    "  read_only_file = open(filename, mode='r')\n",
    "  # Yield read_only_file so it can be assigned to my_file\n",
    "  yield read_only_file \n",
    "  # Close read_only_file\n",
    "  read_only_file.close()\n",
    "with file_read_only(\"employee_data.txt\") as read_file:\n",
    "    print(read_file.read())"
   ]
  },
  {
   "cell_type": "code",
   "execution_count": null,
   "id": "f8fdfced",
   "metadata": {},
   "outputs": [],
   "source": [
    "# use the nested context mange to avoid overload the memory\n",
    "with open(\"iris_data.txt\") as f_in:\n",
    "    with open(\"iris_data_copy.txt\", 'w') as f_out:\n",
    "        for i in range(10):\n",
    "            value = f_in.read()\n",
    "            f_out.write(value)\n",
    "\n"
   ]
  },
  {
   "cell_type": "markdown",
   "id": "eb386b15",
   "metadata": {},
   "source": [
    "### Functions as objects\n",
    "function name without the parensence can be treated as an object\n"
   ]
  },
  {
   "cell_type": "code",
   "execution_count": null,
   "id": "bbaec64e",
   "metadata": {},
   "outputs": [],
   "source": [
    "def func(x):\n",
    "    print(x)\n",
    "x = func\n",
    "print(x)\n"
   ]
  },
  {
   "cell_type": "code",
   "execution_count": null,
   "id": "29a684bf",
   "metadata": {},
   "outputs": [],
   "source": [
    "# function names can also be put into a list\n",
    "func_list = [func, print, open]\n",
    "func_list[1](\"Hello World!\")"
   ]
  },
  {
   "cell_type": "code",
   "execution_count": null,
   "id": "f4c7ade7",
   "metadata": {},
   "outputs": [],
   "source": [
    "# functions names can also be put into a dictionary\n",
    "func_dict = {\n",
    "    'func1'  : func,\n",
    "    'func2' : print,\n",
    "    'func3' : open,\n",
    "}\n",
    "func_dict['func2'](\"Hello World!\")"
   ]
  },
  {
   "cell_type": "code",
   "execution_count": null,
   "id": "cf91cf26",
   "metadata": {},
   "outputs": [],
   "source": [
    "# function as  arguments\n",
    "def has_doc(func):\n",
    "    return func.__doc__ is not None\n",
    "has_doc(func) # expectect False"
   ]
  },
  {
   "cell_type": "code",
   "execution_count": null,
   "id": "f349cf8f",
   "metadata": {},
   "outputs": [],
   "source": [
    "# defien a function into a funciton\n",
    "def foo():\n",
    "    x = [1,2,3,4]\n",
    "    \n",
    "    def bar(x):\n",
    "        print(x)\n",
    "    for i in x:\n",
    "        bar(i)\n",
    "foo()"
   ]
  },
  {
   "cell_type": "code",
   "execution_count": null,
   "id": "522187d9",
   "metadata": {},
   "outputs": [],
   "source": [
    "# Function as return value\n",
    "def get_function():\n",
    "    def print_me(s):\n",
    "        print(s)\n",
    "    return print_me\n",
    "\n",
    "new_func = get_function()\n",
    "new_func(\"Hello World!\")"
   ]
  },
  {
   "cell_type": "markdown",
   "id": "883574eb",
   "metadata": {},
   "source": [
    "### Closure\n",
    "- Scope\n",
    "    - orders follows by local >> Nolocal >> Global >> Build-in\n",
    "- Nested Function\n",
    "- Nonelocal\n",
    "- Clousure"
   ]
  },
  {
   "cell_type": "code",
   "execution_count": null,
   "id": "74fcb177",
   "metadata": {},
   "outputs": [],
   "source": [
    "# global variable\n",
    "x = 100 # define in the main as global\n",
    "def foo():\n",
    "    print(x) # got error, as the x is local variable, its initial state has not been asigned \n",
    "foo() "
   ]
  },
  {
   "cell_type": "code",
   "execution_count": null,
   "id": "9473e214",
   "metadata": {},
   "outputs": [],
   "source": [
    "x = 100\n",
    "def foo():\n",
    "    x = 50\n",
    "    print(\"local x:{}\".format(x))\n",
    "foo()\n",
    "print(\"global x:{}\".format(x))"
   ]
  },
  {
   "cell_type": "code",
   "execution_count": null,
   "id": "3e437eb9",
   "metadata": {},
   "outputs": [],
   "source": [
    "# funcition use and modify the global variable, but this method is not recommended to use in ther real project because of inefficient mangement of the codes\n",
    "x = 100\n",
    "def foo():\n",
    "    global x\n",
    "    x = 50\n",
    "    print(\"local x:{}\".format(x))\n",
    "foo()\n",
    "print(\"global x:{}\".format(x))   "
   ]
  },
  {
   "cell_type": "code",
   "execution_count": null,
   "id": "baad9403",
   "metadata": {},
   "outputs": [],
   "source": [
    "# nonlocal variabel is normaly used in the nested funciton, nonelocal variable works in the inner and outer scope of the whole nested funciton\n",
    "\n",
    "def outer():\n",
    "    x = 100\n",
    "    def inner():\n",
    "        nonlocal x\n",
    "        x = 50\n",
    "        print(\"local x:{}\".format(x))\n",
    "    inner()\n",
    "    print(\"local x:{}\".format(x))\n",
    "outer()\n",
    "    "
   ]
  },
  {
   "cell_type": "markdown",
   "id": "e10400d9",
   "metadata": {},
   "source": [
    "#### Nested function\n",
    "- a funciton define inside another function\n",
    "\n",
    "ex1:\n",
    "```python\n",
    "# outer function\n",
    "def parent(value):\n",
    "    # nested function\n",
    "    def child():\n",
    "        print(value)\n",
    "    child()\n",
    "```\n",
    "ex2:\n",
    "\n",
    "```python\n",
    "# outer function\n",
    "def parent():\n",
    "    # nested function\n",
    "    def child():\n",
    "        pass\n",
    "    return child\n",
    "```\n"
   ]
  },
  {
   "cell_type": "markdown",
   "id": "e0dacd53",
   "metadata": {},
   "source": [
    "#### closure\n",
    "- It is nested function\n",
    "- Attaching nonlocal variables to nested functions\n",
    "- It returned from the enclosing function"
   ]
  },
  {
   "cell_type": "code",
   "execution_count": null,
   "id": "302cd347",
   "metadata": {},
   "outputs": [],
   "source": [
    "# even a has been declared in the outer function, because the structure is closure, therefore, a is nonlocal which makes sennse to use in the inner function\n",
    "def outer():\n",
    "    a = 5\n",
    "    def inner():\n",
    "        print(a)\n",
    "    return inner\n",
    "func = outer()\n",
    "func()"
   ]
  },
  {
   "cell_type": "code",
   "execution_count": null,
   "id": "d5ca10ab",
   "metadata": {},
   "outputs": [],
   "source": [
    "dir(func) # it has the closure method\n",
    "print(type(func.__closure__))\n",
    "print(len(func.__closure__))\n",
    "print(\"Content of the closure: {}\".format(func.__closure__[0].cell_contents))"
   ]
  },
  {
   "cell_type": "code",
   "execution_count": null,
   "id": "173ef885",
   "metadata": {},
   "outputs": [],
   "source": [
    "# check the scope of the closure\n",
    "\n",
    "x = 100\n",
    "def outer(value):\n",
    "    def inner():\n",
    "        print(value)\n",
    "    return inner\n",
    "my_func = outer(x)\n",
    "my_func()"
   ]
  },
  {
   "cell_type": "code",
   "execution_count": null,
   "id": "60b054f7",
   "metadata": {},
   "outputs": [],
   "source": [
    "# the variable has been recorded into the closure, which is a deep copy object.\n",
    "x = 200\n",
    "my_func.__closure__[0].cell_contents"
   ]
  },
  {
   "cell_type": "code",
   "execution_count": null,
   "id": "3ab72e15",
   "metadata": {},
   "outputs": [],
   "source": [
    "del x\n",
    "my_func.__closure__[0].cell_contents"
   ]
  },
  {
   "cell_type": "markdown",
   "id": "2b2886a5",
   "metadata": {},
   "source": [
    "#### Closure keeps value safe"
   ]
  },
  {
   "cell_type": "code",
   "execution_count": null,
   "id": "b484ed16",
   "metadata": {},
   "outputs": [],
   "source": [
    "def my_special_func():\n",
    "    print(\"print my special function\")\n",
    "def get_new_func(func):\n",
    "    def call_func():\n",
    "        func()\n",
    "    return call_func\n",
    "my_func = get_new_func(my_special_func)\n",
    "\n",
    "#redefine the func\n",
    "def my_special_func():\n",
    "    print(\"Hello!\")\n",
    "my_func() # print the former content, because the clouser content deep copyed the former one\n"
   ]
  },
  {
   "cell_type": "code",
   "execution_count": null,
   "id": "2b71cfec",
   "metadata": {},
   "outputs": [],
   "source": [
    "def my_special_func():\n",
    "    print(\"print my special function\")\n",
    "def get_new_func(func):\n",
    "    def call_func():\n",
    "        func()\n",
    "    return call_func\n",
    "my_func = get_new_func(my_special_func)\n",
    "\n",
    "#redefine the func\n",
    "del my_special_func\n",
    "my_func() # print the former content, because the clouser content deep copyed the former one\n"
   ]
  },
  {
   "cell_type": "code",
   "execution_count": null,
   "id": "69c7aab1",
   "metadata": {},
   "outputs": [],
   "source": [
    "def my_special_func():\n",
    "    print(\"print my special function\")\n",
    "def get_new_func(func):\n",
    "    def call_func():\n",
    "        func()\n",
    "    return call_func\n",
    "my_special_func = get_new_func(my_special_func)\n",
    "\n",
    "my_special_func() # print the former content, because the clouser content deep copyed the former one\n"
   ]
  },
  {
   "cell_type": "markdown",
   "id": "d78d6731",
   "metadata": {},
   "source": [
    "### Decorators\n",
    "- Functions as objects\n",
    "- Nested functions\n",
    "- Nolocal scope\n",
    "- Closure"
   ]
  },
  {
   "cell_type": "code",
   "execution_count": null,
   "id": "c86da324",
   "metadata": {},
   "outputs": [],
   "source": [
    "\n",
    "\n",
    "def double_args(func):\n",
    "    def wrapper(a,b):\n",
    "        return func(a*2, b*2)\n",
    "    return wrapper"
   ]
  },
  {
   "cell_type": "code",
   "execution_count": null,
   "id": "1358ba80",
   "metadata": {},
   "outputs": [],
   "source": [
    "# normal way to use closure\n",
    "def multiply(a,b):\n",
    "    return a * b\n",
    "new_func = double_args(multiply)\n",
    "new_func(1,5)"
   ]
  },
  {
   "cell_type": "code",
   "execution_count": null,
   "id": "2213f1ce",
   "metadata": {},
   "outputs": [],
   "source": [
    "# use the keyware @ from python, which is identical to replace the origial func \n",
    "# multiply = double_args(multipy)\n",
    "@double_args\n",
    "def multiply(a,b):\n",
    "    return a * b\n",
    "multiply(1,5)"
   ]
  },
  {
   "cell_type": "markdown",
   "id": "f882925c",
   "metadata": {},
   "source": [
    "### Decorator in the real world\n"
   ]
  },
  {
   "cell_type": "markdown",
   "id": "8f475d6d",
   "metadata": {},
   "source": [
    "#### Time decorator"
   ]
  },
  {
   "cell_type": "code",
   "execution_count": null,
   "id": "03827aac",
   "metadata": {},
   "outputs": [],
   "source": [
    "import time\n",
    "\n",
    "def timer(func):\n",
    "    \"\"\"A decorater that prints how long a funciton took to run.\"\"\"\n",
    "    def wrapper(*args,**kwargs):\n",
    "        start = time.time()\n",
    "        result = func(*args,**kwargs)\n",
    "        end = time.time()\n",
    "        t_total = end - start\n",
    "        print(\"{} took {}s\".format(func.__doc__, t_total))\n",
    "        return result\n",
    "    return wrapper\n"
   ]
  },
  {
   "cell_type": "code",
   "execution_count": null,
   "id": "378e9368",
   "metadata": {},
   "outputs": [],
   "source": [
    "@timer\n",
    "def sleep_n_seconds(n):\n",
    "    \"\"\"Pause processing for n seconds.\n",
    "    Args:\n",
    "    n\n",
    "    \"\"\"\n",
    "    time.sleep(n)\n",
    "sleep_n_seconds(3)\n"
   ]
  },
  {
   "cell_type": "markdown",
   "id": "d1e2bf77",
   "metadata": {},
   "source": [
    "### Decorator and metadata"
   ]
  },
  {
   "cell_type": "code",
   "execution_count": null,
   "id": "07389978",
   "metadata": {},
   "outputs": [],
   "source": [
    "def sleep_n_seconds(n):\n",
    "    \"\"\"Pause processing for n seconds.\n",
    "    Args:\n",
    "    n\n",
    "    \"\"\"\n",
    "    time.sleep(n)\n",
    "print(sleep_n_seconds.__name__)\n",
    "print(sleep_n_seconds.__doc__)"
   ]
  },
  {
   "cell_type": "code",
   "execution_count": null,
   "id": "669584ad",
   "metadata": {},
   "outputs": [],
   "source": [
    "# Metha data has been changed as the func with decorator, because the function name is a return function object from the decorator \n",
    "# which is deferent from the origial function definition\n",
    "@timer\n",
    "def sleep_n_seconds(n):\n",
    "    \"\"\"Pause processing for n seconds.\n",
    "    Args:\n",
    "    n\n",
    "    \"\"\"\n",
    "    time.sleep(n)\n",
    "print(sleep_n_seconds.__name__)\n",
    "print(sleep_n_seconds.__doc__)"
   ]
  },
  {
   "cell_type": "code",
   "execution_count": null,
   "id": "8f1ad315",
   "metadata": {},
   "outputs": [],
   "source": [
    "# Solution\n",
    "from functools import wraps\n",
    "\n",
    "def timer(func):\n",
    "    \"\"\"A decorater that prints how long a funciton took to run.\"\"\"\n",
    "    @wraps(func)\n",
    "    def wrapper(*args,**kwargs):\n",
    "        start = time.time()\n",
    "        result = func(*args,**kwargs)\n",
    "        end = time.time()\n",
    "        t_total = end - start\n",
    "        print(\"{} took {}s\".format(func.__doc__, t_total))\n",
    "        return result\n",
    "    return wrapper\n",
    "\n",
    "@timer\n",
    "def sleep_n_seconds(n):\n",
    "    \"\"\"Pause processing for n seconds.\n",
    "    Args:\n",
    "    n\n",
    "    \"\"\"\n",
    "    time.sleep(n)\n",
    "print(sleep_n_seconds.__name__)\n",
    "print(sleep_n_seconds.__doc__)"
   ]
  },
  {
   "cell_type": "code",
   "execution_count": null,
   "id": "d8998688",
   "metadata": {},
   "outputs": [],
   "source": [
    "# access to the original function without decorator\n",
    "sleep_n_seconds.__wrapped__"
   ]
  },
  {
   "cell_type": "markdown",
   "id": "fc8d7660",
   "metadata": {},
   "source": [
    "### Decorators that take arguments\n",
    "- How to pass the parameter to a decorator\n",
    "```python\n",
    "def run_n_times(func):\n",
    "    def wrapper(*args, **kwargs):\n",
    "        # How do we pass \"n\" into this function?\n",
    "        for i in range(???):\n",
    "        func(*args, **kwargs)\n",
    "    return wrapper\n",
    "@run_n_times(3)\n",
    "def print_sum(a, b):\n",
    "    print(a + b)\n",
    "```"
   ]
  },
  {
   "cell_type": "code",
   "execution_count": null,
   "id": "54d69df2",
   "metadata": {},
   "outputs": [],
   "source": [
    "# create decorator factory\n",
    "\n",
    "def run_n_times(n):\n",
    "    \"\"\"Decorator factory, repeart the func n times\"\"\"\n",
    "    def decorator(func):\n",
    "        def wrapper(*args, **kwargs):\n",
    "            for i in range(n):\n",
    "                func(*args, **kwargs)\n",
    "        return wrapper\n",
    "    return decorator\n",
    "@run_n_times(3)\n",
    "def print_sum(a, b):\n",
    "    print(a + b)\n",
    "print_sum(1,3)"
   ]
  },
  {
   "cell_type": "code",
   "execution_count": null,
   "id": "87141f68",
   "metadata": {},
   "outputs": [],
   "source": [
    "# the function print_sum can also interpreted as following:\n",
    "\n",
    "run_five_times = run_n_times(5) # run_three_times is a decorator\n",
    "@run_five_times\n",
    "def print_sum(a, b):\n",
    "    print(a + b)\n",
    "print_sum(1,3)"
   ]
  },
  {
   "cell_type": "markdown",
   "id": "1c997ced",
   "metadata": {},
   "source": [
    "#### Real example time out() decorator\n",
    "\n",
    "```python\n",
    "def function1():\n",
    "# This function sometimes\n",
    "# runs for a loooong time\n",
    "\n",
    "def function2():\n",
    "# This function sometimes\n",
    "# hangs and doesn't return\n",
    "\n",
    "```\n"
   ]
  },
  {
   "cell_type": "code",
   "execution_count": 4,
   "id": "a19350ba",
   "metadata": {},
   "outputs": [
    {
     "data": {
      "text/plain": [
       "5"
      ]
     },
     "execution_count": 4,
     "metadata": {},
     "output_type": "execute_result"
    }
   ],
   "source": [
    "import signal\n",
    "import time\n",
    "from functools import wraps\n",
    "\n",
    "def raise_timeout(*args, **kwargs):\n",
    "    return TimeoutError()\n",
    "# When an \"alarm\" signal goes off, call raise_timeout()\n",
    "signal.signal(signalnum=signal.SIGALRM, handler=raise_timeout)\n",
    "\n",
    "# Set off an alarm in 5 seconds\n",
    "signal.alarm(5)\n",
    "# Cancel the alarm\n",
    "signal.alarm(0)"
   ]
  },
  {
   "cell_type": "code",
   "execution_count": null,
   "id": "cc36d679",
   "metadata": {},
   "outputs": [],
   "source": [
    "def timeout_in_ns(n):\n",
    "    def decorator(func):\n",
    "        @wraps(func)\n",
    "        def wrapper(*args, **kwargs):\n",
    "            signal.alarm(n)\n",
    "            try:\n",
    "                return func(*args, **kwargs)\n",
    "            finally:\n",
    "                signal.alarm(0)\n",
    "        return wrapper\n",
    "    return decorator\n",
    "\n",
    "@timeout_in_ns(5)\n",
    "def foo():\n",
    "    time.sleep(10)\n",
    "    print('foo!')\n",
    "foo()"
   ]
  },
  {
   "cell_type": "code",
   "execution_count": null,
   "id": "07dd3b63",
   "metadata": {},
   "outputs": [],
   "source": [
    "def timeout(n_seconds):\n",
    "    def decorator(func):\n",
    "        @wraps(func) \n",
    "        def wrapper(*args, **kwargs): print('foo!')\n",
    "            # Set an alarm for n seconds \n",
    "            signal.signal(signalnum=signal.SIGALRM, handler=raise_timeout)\n",
    "            signal.alarm(n_seconds) \n",
    "            try:\n",
    "                # Call the decorated func\n",
    "                return func(*args, **kwargs)\n",
    "            finally:\n",
    "                # Cancel alarm\n",
    "                signal.alarm(0)\n",
    "        return wrapper\n",
    "    return decorator\n",
    "\n",
    "@timeout(5)\n",
    "def foo():\n",
    "    time.sleep(10)\n",
    "    print('foo')\n",
    "foo()"
   ]
  },
  {
   "cell_type": "code",
   "execution_count": 5,
   "id": "4342eb57",
   "metadata": {},
   "outputs": [
    {
     "name": "stdout",
     "output_type": "stream",
     "text": [
      "foo\n"
     ]
    }
   ],
   "source": [
    "def timeout(n_seconds):\n",
    "    def decorator(func):\n",
    "        @wraps(func)    \n",
    "        def wrapper(*args, **kwargs):\n",
    "            signal.signal(signalnum=signal.SIGALRM, handler=raise_timeout)\n",
    "            signal.alarm(n_seconds)\n",
    "            try:\n",
    "                return func(*args, **kwargs) \n",
    "            finally:\n",
    "                signal.alarm(0)\n",
    "        return wrapper\n",
    "    return decorator\n",
    "@timeout(5)\n",
    "def foo():\n",
    "    time.sleep(10)\n",
    "    print('foo')\n",
    "foo()"
   ]
  },
  {
   "cell_type": "code",
   "execution_count": null,
   "id": "12d50e4b",
   "metadata": {},
   "outputs": [],
   "source": []
  }
 ],
 "metadata": {
  "kernelspec": {
   "display_name": "Python 3 (ipykernel)",
   "language": "python",
   "name": "python3"
  },
  "language_info": {
   "codemirror_mode": {
    "name": "ipython",
    "version": 3
   },
   "file_extension": ".py",
   "mimetype": "text/x-python",
   "name": "python",
   "nbconvert_exporter": "python",
   "pygments_lexer": "ipython3",
   "version": "3.7.11"
  }
 },
 "nbformat": 4,
 "nbformat_minor": 5
}
