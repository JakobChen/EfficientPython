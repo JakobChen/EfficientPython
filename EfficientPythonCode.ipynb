{
 "cells": [
  {
   "cell_type": "markdown",
   "id": "bc9799a8",
   "metadata": {},
   "source": [
    "# Course1: Foundations for Efficientcy\n",
    "- Efficiency code means low memory usage(minimal resource consumption) and fast runtime(minimal completion time)\n",
    "- Pythonic codes work efficient\n"
   ]
  },
  {
   "cell_type": "markdown",
   "id": "6f476bb3",
   "metadata": {},
   "source": [
    "### Python Build-ins\n",
    "- part of every standard python installation\n",
    "- build-in types\n",
    "    - list, set, dict, tuple\n",
    "- build-in funcitons\n",
    "    - print(), len(), range(), round(), enumerate(), map(), zip(), etc.\n",
    "- build-in modules\n",
    "    - os, sys, itertools, collections, math, etc\n",
    "    "
   ]
  },
  {
   "cell_type": "code",
   "execution_count": 3,
   "id": "a52fa65e",
   "metadata": {},
   "outputs": [
    {
     "name": "stdout",
     "output_type": "stream",
     "text": [
      "[0, 1, 2, 3, 4, 5, 6, 7, 8, 9]\n",
      "[1, 3, 5, 7, 9]\n"
     ]
    }
   ],
   "source": [
    "# range\n",
    "l1 = list(range(10))\n",
    "print(l1)\n",
    "# range with step\n",
    "l2 = list(range(1,10,2))\n",
    "print(l2)"
   ]
  },
  {
   "cell_type": "code",
   "execution_count": 4,
   "id": "a1a13e0f",
   "metadata": {},
   "outputs": [
    {
     "data": {
      "text/plain": [
       "[(0, 'a'), (1, 'b'), (2, 'c'), (3, 'd')]"
      ]
     },
     "execution_count": 4,
     "metadata": {},
     "output_type": "execute_result"
    }
   ],
   "source": [
    "# enumerate()\n",
    "# create an indexed list of objects\n",
    "letters = ['a', 'b', 'c', 'd']\n",
    "indexed_letter = enumerate(letters)\n",
    "indexed_letter_list = list(indexed_letter)\n",
    "indexed_letter_list"
   ]
  },
  {
   "cell_type": "code",
   "execution_count": 7,
   "id": "0aead323",
   "metadata": {},
   "outputs": [
    {
     "data": {
      "text/plain": [
       "[1, 1, 4, 7]"
      ]
     },
     "execution_count": 7,
     "metadata": {},
     "output_type": "execute_result"
    }
   ],
   "source": [
    "# map(): apply a funciton over an object\n",
    "nums = [1.2, 1.3, 4.5, 6.7]\n",
    "rnd_nums = map(round, nums)\n",
    "list(rnd_nums)"
   ]
  },
  {
   "cell_type": "code",
   "execution_count": 19,
   "id": "950d1af6",
   "metadata": {},
   "outputs": [
    {
     "data": {
      "text/plain": [
       "[1, 4, 9, 16, 25]"
      ]
     },
     "execution_count": 19,
     "metadata": {},
     "output_type": "execute_result"
    }
   ],
   "source": [
    "# map with lambda is a useful commbination\n",
    "nums = [1,2,3,4,5]\n",
    "nums_squard = map(lambda x:x*x, nums)\n",
    "list(nums_squard)"
   ]
  },
  {
   "cell_type": "code",
   "execution_count": 20,
   "id": "528f9728",
   "metadata": {},
   "outputs": [
    {
     "data": {
      "text/plain": [
       "[1, 4, 9, 16, 25]"
      ]
     },
     "execution_count": 20,
     "metadata": {},
     "output_type": "execute_result"
    }
   ],
   "source": [
    "# * is also a way to unpack the map object\n",
    "nums = [1,2,3,4,5]\n",
    "nums_squard = map(lambda x:x*x, nums)\n",
    "unpack_nums = [*nums_squard]\n",
    "unpack_nums"
   ]
  },
  {
   "cell_type": "markdown",
   "id": "c4da4e25",
   "metadata": {},
   "source": [
    "### Numpy Array Overview\n",
    "- Numpy array homogeneity\n",
    "- broadcasting\n",
    "- Boolean indexing"
   ]
  },
  {
   "cell_type": "code",
   "execution_count": 28,
   "id": "347ccf50",
   "metadata": {},
   "outputs": [
    {
     "data": {
      "text/plain": [
       "dtype('int64')"
      ]
     },
     "execution_count": 28,
     "metadata": {},
     "output_type": "execute_result"
    }
   ],
   "source": [
    "import numpy as np\n",
    "\n",
    "#create numpy array\n",
    "nums = np.array([1,2,3,4])\n",
    "nums.dtype"
   ]
  },
  {
   "cell_type": "code",
   "execution_count": 30,
   "id": "b0983292",
   "metadata": {},
   "outputs": [
    {
     "data": {
      "text/plain": [
       "dtype('float64')"
      ]
     },
     "execution_count": 30,
     "metadata": {},
     "output_type": "execute_result"
    }
   ],
   "source": [
    "# Numpy array keeps data homogeneity\n",
    "# automaticly convert int into float\n",
    "nums = np.array([1,2,3.1,4.1])\n",
    "nums.dtype"
   ]
  },
  {
   "cell_type": "code",
   "execution_count": 31,
   "id": "74007690",
   "metadata": {},
   "outputs": [
    {
     "name": "stdout",
     "output_type": "stream",
     "text": [
      "[4, 1, 0, 1, 4]\n",
      "[4 1 0 1 4]\n"
     ]
    }
   ],
   "source": [
    "# python doesn#t support broadcasting\n",
    "nums = [-2, -1, 0, 1, 2]\n",
    "\n",
    "# python comperensive\n",
    "squard_nums = [num*num for num in nums ]\n",
    "print(squard_nums)\n",
    "\n",
    "nums_np = np.array([-2, -1, 0, 1, 2])\n",
    "squard_nums_np = nums_np ** 2\n",
    "print(squard_nums_np)"
   ]
  },
  {
   "cell_type": "code",
   "execution_count": 34,
   "id": "7bd64655",
   "metadata": {},
   "outputs": [
    {
     "name": "stdout",
     "output_type": "stream",
     "text": [
      "-2\n",
      "2\n",
      "[1, 4]\n"
     ]
    }
   ],
   "source": [
    "## Indexing \n",
    "# 1-D Indexing in python \n",
    "nums = [-2, -1, 0, 1, 2]\n",
    "print(nums[0])\n",
    "\n",
    "# 2-D indexing\n",
    "nums2d = [[1,2,3],[4,5,6]]\n",
    "print(nums2d[0][1])\n",
    "#slicing one row\n",
    "print([row[0] for row in nums2d])"
   ]
  },
  {
   "cell_type": "code",
   "execution_count": 35,
   "id": "636e724a",
   "metadata": {},
   "outputs": [
    {
     "name": "stdout",
     "output_type": "stream",
     "text": [
      "1\n",
      "6\n",
      "[1 4]\n"
     ]
    }
   ],
   "source": [
    "# 1-d indexing in numpy\n",
    "nums = np.array([1,2,3,4])\n",
    "print(nums[0])\n",
    "\n",
    "# 2d index\n",
    "nums2d = np.array([[1,2,3],[4,5,6]])\n",
    "print(nums2d[1,2])\n",
    "print(nums2d[:,0])"
   ]
  },
  {
   "cell_type": "code",
   "execution_count": 36,
   "id": "8d368466",
   "metadata": {},
   "outputs": [
    {
     "data": {
      "text/plain": [
       "[1, 2]"
      ]
     },
     "execution_count": 36,
     "metadata": {},
     "output_type": "execute_result"
    }
   ],
   "source": [
    "### Boolean slicing\n",
    "nums = [-2, -1, 0, 1, 2]\n",
    "\n",
    "# boolean scling in pyhton\n",
    "new_nums = []\n",
    "for i in nums:\n",
    "    if i>0:\n",
    "        new_nums.append(i)\n",
    "new_nums"
   ]
  },
  {
   "cell_type": "code",
   "execution_count": 37,
   "id": "31558965",
   "metadata": {},
   "outputs": [
    {
     "data": {
      "text/plain": [
       "array([1, 2])"
      ]
     },
     "execution_count": 37,
     "metadata": {},
     "output_type": "execute_result"
    }
   ],
   "source": [
    "## numpy approch\n",
    "nums_np = np.array(nums)\n",
    "nums_np[ nums_np >0 ]"
   ]
  },
  {
   "cell_type": "code",
   "execution_count": null,
   "id": "0b5179f6",
   "metadata": {},
   "outputs": [],
   "source": []
  }
 ],
 "metadata": {
  "kernelspec": {
   "display_name": "Python 3 (ipykernel)",
   "language": "python",
   "name": "python3"
  },
  "language_info": {
   "codemirror_mode": {
    "name": "ipython",
    "version": 3
   },
   "file_extension": ".py",
   "mimetype": "text/x-python",
   "name": "python",
   "nbconvert_exporter": "python",
   "pygments_lexer": "ipython3",
   "version": "3.7.11"
  }
 },
 "nbformat": 4,
 "nbformat_minor": 5
}
